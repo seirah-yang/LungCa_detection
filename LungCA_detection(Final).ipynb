{
 "cells": [
  {
   "cell_type": "code",
   "execution_count": null,
   "id": "bd727d9d",
   "metadata": {},
   "outputs": [],
   "source": [
    "# 1. Roboflow에서 데이터셋 다운로드\n",
    "# pip install ultralytics roboflow\n",
    "# pip install --upgrade ultralytics\n",
    "\n",
    "from roboflow import Roboflow\n",
    "\n",
    "rf = Roboflow(api_key=\"LvEPFGKVRzVtlM4WxitY\")\n",
    "project = rf.workspace(\"special-problem-manual\").project(\"lung-cancer-detection-model\")\n",
    "version = project.version(1)\n",
    "dataset = version.download(\"yolov12\") \n",
    "# pip install -U albumentations opencv-python pydicom numpy torch torchvision ultralytics"
   ]
  },
  {
   "cell_type": "markdown",
   "id": "04af3607",
   "metadata": {},
   "source": [
    " 폐암 진단용 영상(CT/X-ray) 대상 탐지를 위해 전처리·증강·학습 파이프라인을 일원화\n",
    "핵심 개선점\n",
    "- CT(X-ray) 자동 분기 전처리:\n",
    "  * CT: DICOM/NPY/PNG 등 입력 허용, HU window → intensity normalization, 3D에서 2D slice 지원\n",
    "  * X-ray: CLAHE + intensity normalize\n",
    "- 임상 신뢰성 중심 증강 설계(Albumentations):\n",
    "  * 구조 보존(Structure-preserving)을 기본 원칙으로 한 기하학/강도 기반 증강\n",
    "  * YOLO 형식 bbox와 동기화\n",
    "- 설정(하이퍼파라미터) 분리: dataclass Config\n",
    "- 재현성 관리: seed 고정, deterministic 옵션\n",
    "- 학습 엔진: Ultralytics YOLO(v8/v12 호환) 사용 옵션\n",
    "  * 미설치 환경에서도 스크립트 자체는 import/수정 가능 (런타임에서만 필요)\n",
    "- 로깅: 간단한 CSV/JSON 로깅 및 콘솔 Pretty print"
   ]
  },
  {
   "cell_type": "code",
   "execution_count": null,
   "id": "007660bc",
   "metadata": {},
   "outputs": [],
   "source": [
    "from __future__ import annotations\n",
    "import warnings\n",
    "warnings.filterwarnings(\"ignore\")\n",
    "\n",
    "import os\n",
    "import cv2\n",
    "import json\n",
    "import math\n",
    "import time\n",
    "import random\n",
    "import shutil\n",
    "import string\n",
    "import typing as T\n",
    "from dataclasses import dataclass, asdict\n",
    "from ultralytics import YOLO\n",
    "import numpy as np\n",
    "import pydicom  # CT DICOM용 모듈\n",
    "import albumentations as A. # pip install -U albumentations"
   ]
  },
  {
   "cell_type": "code",
   "execution_count": null,
   "id": "b53c97db",
   "metadata": {},
   "outputs": [],
   "source": [
    "from ultralytics import settings\n",
    "\n",
    "# View all settings\n",
    "print(settings)\n",
    "\n",
    "# Return a specific setting\n",
    "value = settings[\"runs_dir\"]"
   ]
  },
  {
   "cell_type": "code",
   "execution_count": null,
   "id": "afd8b40d",
   "metadata": {},
   "outputs": [],
   "source": [
    "# 2. 사전학습 모델 & data 불러오기\n",
    "from ultralytics import YOLO\n",
    "model = YOLO(\"/home/alpaco/homework/LungCa detection /yolo12m.pt\")  "
   ]
  },
  {
   "cell_type": "code",
   "execution_count": null,
   "id": "27823a47",
   "metadata": {},
   "outputs": [],
   "source": [
    "#yaml 파일\n",
    "yaml_path = \"/home/alpaco/homework/LungCa detection /Lung-Cancer-Detection-(Model)-1/data.yaml\"\n",
    "\n",
    "# train -> \n",
    "model.train(data=yaml_path, epochs=3, imgsz=640)"
   ]
  },
  {
   "cell_type": "code",
   "execution_count": null,
   "id": "677bec96",
   "metadata": {},
   "outputs": [],
   "source": [
    "project=\"/home/alpaco/homework/outputs\",  # 절대경로\n",
    "name=\"yolov12m_test3\",                                      \n",
    "device=\"cuda\""
   ]
  },
  {
   "cell_type": "code",
   "execution_count": null,
   "id": "c9a5bd14",
   "metadata": {},
   "outputs": [],
   "source": [
    "from ultralytics import YOLO\n",
    "\n",
    "model = YOLO(\"/home/alpaco/homework/LungCa detection /best.pt\")\n",
    "\n",
    "# 모델 구조 확인\n",
    "model.info()"
   ]
  },
  {
   "cell_type": "code",
   "execution_count": null,
   "id": "27ec1d89",
   "metadata": {},
   "outputs": [],
   "source": [
    "# 3. 전처리\n",
    "import cv2, numpy as np, pydicom\n",
    "\n",
    "def hu_window(img, window=(-1200, 400)):\n",
    "    low, high = window\n",
    "    img = np.clip(img, low, high)\n",
    "    return ((img - low) / (high - low)).astype(np.float32)\n",
    "\n",
    "def apply_clahe(img, clip=2.0, tile=(8,8)):\n",
    "    img = np.uint8(np.clip(img * 255, 0, 255))\n",
    "    clahe = cv2.createCLAHE(clipLimit=clip, tileGridSize=tile)\n",
    "    img = clahe.apply(img)\n",
    "    return img.astype(np.float32) / 255.0"
   ]
  },
  {
   "cell_type": "code",
   "execution_count": null,
   "id": "525af761",
   "metadata": {},
   "outputs": [],
   "source": [
    "# 4. 증강\n",
    "import albumentations as A\n",
    "\n",
    "lung_augment = A.Compose([\n",
    "    A.HorizontalFlip(p=0.3),\n",
    "    A.ShiftScaleRotate(shift_limit=0.05, scale_limit=0.1, rotate_limit=10, p=0.5),\n",
    "    A.RandomBrightnessContrast(brightness_limit=0.1, contrast_limit=0.1, p=0.4),\n",
    "    A.GaussNoise(var_limit=(5.0, 20.0), p=0.2),  \n",
    "    A.RandomGamma(gamma_limit=(90, 110), p=0.3)], bbox_params=A.BboxParams(format='yolo', label_fields=['class_labels']))"
   ]
  },
  {
   "cell_type": "code",
   "execution_count": null,
   "id": "5a15f980",
   "metadata": {},
   "outputs": [],
   "source": [
    "from ultralytics import YOLO\n",
    "import os\n",
    "\n",
    "# 공백이 있는 폴더는 언더바로 교체 권장\n",
    "model_path = \"/home/alpaco/homework/LungCa detection /best.pt\"\n",
    "yaml_path = \"/home/alpaco/homework/LungCa detection /Lung-Cancer-Detection-(Model)-1/data.yaml\"\n",
    "\n",
    "# 5. 모델 불러오기\n",
    "model = YOLO(model_path)\n",
    "\n",
    "# Fine-tuning\n",
    "results = model.train(\n",
    "    data=yaml_path,              # 절대경로로 변경!\n",
    "    epochs=10,\n",
    "    imgsz=640,\n",
    "    batch=16,\n",
    "    lr0=0.001,\n",
    "    optimizer=\"SGD\",\n",
    "    device=\"cuda\",\n",
    "    project=\"/home/alpaco/homework/LungCa detection \",\n",
    "    name=\"yolov12m_finetune\",\n",
    "    seed=42,\n",
    "    deterministic=True,\n",
    "    verbose=True\n",
    ")"
   ]
  },
  {
   "cell_type": "code",
   "execution_count": null,
   "id": "3cb18928",
   "metadata": {},
   "outputs": [],
   "source": [
    "# 6. VALIDATION\n",
    "results_val = model.val(\n",
    "    data=yaml_path,\n",
    "    split=\"val\",   # validation set\n",
    "    imgsz=640,\n",
    "    batch=8,\n",
    "    conf=0.25,\n",
    "    iou=0.5,\n",
    "    save_json=True,\n",
    "    save_hybrid=True\n",
    ")\n",
    "print(\" Validation metrics:\", results_val.results_dict)\n",
    "\n",
    "#  7. TEST \n",
    "results_test = model.predict(\n",
    "    source=\"/home/alpaco/homework/LungCa detection /Lung-Cancer-Detection-(Model)-1/test/images\",  \n",
    "    imgsz=640,\n",
    "    conf=0.3,\n",
    "    save=True,        # 결과 이미지 저장\n",
    "    save_txt=True,    # bbox 좌표 txt 저장\n",
    "    project=\"/home/alpaco/homework/outputs\",\n",
    "    name=\"yolov12m_test_pred\"\n",
    ")\n",
    "print(\" Test inference done! \")"
   ]
  },
  {
   "cell_type": "code",
   "execution_count": null,
   "id": "76eb1330",
   "metadata": {},
   "outputs": [],
   "source": [
    "# 8. SAHI\n",
    "from sahi import AutoDetectionModel\n",
    "from sahi.predict import get_sliced_prediction\n",
    "\n",
    "detection_model = AutoDetectionModel.from_pretrained(\n",
    "    model_type=\"ultralytics\",  # 또는 \"yolov8\" 등 호환 모델 타입\n",
    "    model_path=\"/home/alpaco/homework/LungCa detection /yolov12m_finetune2/weights/best.pt\",\n",
    "    confidence_threshold=0.3,\n",
    "    device=\"cuda\"\n",
    ")"
   ]
  },
  {
   "cell_type": "code",
   "execution_count": null,
   "id": "a1bb7625",
   "metadata": {},
   "outputs": [],
   "source": [
    "result = get_sliced_prediction(\n",
    "   image=\"/home/alpaco/homework/outputs/yolov12m_test_pred/A0046_2-029-dcm_jpeg.rf.2bc85c14bfea3698435415e11f16963d.jpg\",\n",
    "    detection_model=detection_model,\n",
    "    slice_height=512,\n",
    "    slice_width=512,\n",
    "    overlap_height_ratio=0.2,\n",
    "    overlap_width_ratio=0.2\n",
    ")"
   ]
  },
  {
   "cell_type": "code",
   "execution_count": null,
   "id": "e12f56c9",
   "metadata": {},
   "outputs": [],
   "source": [
    "result.export_visuals(export_dir=\"/home/alpaco/homework/outputs/sahi_results\")"
   ]
  },
  {
   "cell_type": "code",
   "execution_count": null,
   "id": "62433c20",
   "metadata": {},
   "outputs": [],
   "source": [
    "#9. Result \n",
    "mport matplotlib.pyplot as plt\n",
    "import os\n",
    "from PIL import Image\n",
    "\n",
    "save_dir = \"/home/alpaco/homework/outputs/sahi_results\"\n",
    "sample_img = [f for f in os.listdir(save_dir) if f.endswith(\".png\")][0]\n",
    "img = Image.open(os.path.join(save_dir, sample_img))\n",
    "\n",
    "plt.figure(figsize=(8, 8))\n",
    "plt.imshow(img)\n",
    "plt.axis(\"off\")\n",
    "plt.show()"
   ]
  },
  {
   "cell_type": "code",
   "execution_count": null,
   "id": "e1210201",
   "metadata": {},
   "outputs": [],
   "source": [
    "results = model.val(data= yaml_path,  imgsz=640)\n",
    "print(\"mAP50-95:\", results.box.map)      # mean Average Precision @ IoU 0.5–0.95\n",
    "print(\" mAP50:\", results.box.map50)        # mean Average Precision @ IoU 0.5\n",
    "print(\" Precision:\", results.box.p)        # Precision per class\n",
    "print(\" Recall:\", results.box.r)           # Recall per class"
   ]
  },
  {
   "cell_type": "code",
   "execution_count": null,
   "id": "e622bf4e",
   "metadata": {},
   "outputs": [],
   "source": [
    "import pandas as pd \n",
    "df = pd.DataFrame([metrics])\n",
    "os.makedirs(\"/home/alpaco/homework/outputs/metrics_report\", exist_ok=True)\n",
    "csv_path = \"/home/alpaco/homework/outputs/metrics_report/yolov12m_metrics.csv\"\n",
    "df.to_csv(csv_path, index=False)\n",
    "print(f\" Metrics saved to {csv_path}\")\n"
   ]
  },
  {
   "cell_type": "code",
   "execution_count": null,
   "id": "54b11ad3",
   "metadata": {},
   "outputs": [],
   "source": [
    "# graph \n",
    "\n",
    "precision = np.mean(results.box.p) \n",
    "recall = np.mean(results.box.r)    \n",
    "\n",
    "metrics = {\n",
    "    \"mAP50-95\": results.box.map,\n",
    "    \"mAP50\": results.box.map50,\n",
    "    \"Precision\": precision,\n",
    "    \"Recall\": recall\n",
    "}\n",
    "\n",
    "df = pd.DataFrame([metrics])\n",
    "os.makedirs(\"/home/alpaco/homework/outputs/metrics_report\", exist_ok=True)\n",
    "csv_path = \"/home/alpaco/homework/outputs/metrics_report/yolov12m_metrics.csv\"\n",
    "df.to_csv(csv_path, index=False)\n",
    "print(f\"Metrics saved to {csv_path}\")"
   ]
  },
  {
   "cell_type": "code",
   "execution_count": null,
   "id": "f2ba8629",
   "metadata": {},
   "outputs": [],
   "source": [
    "plt.figure(figsize=(6,4))\n",
    "plt.bar(list(metrics.keys()), list(metrics.values()),\n",
    "        color=['#4B9CD3', '#77DD77', '#FFB347', '#FF6961'])\n",
    "plt.title(\"YOLOv12m Fine-tuning Performance\")\n",
    "plt.ylabel(\"Score (0–1)\")\n",
    "plt.ylim(0, 1.0)\n",
    "\n",
    "for i, (k, v) in enumerate(metrics.items()):\n",
    "    plt.text(i, v + 0.02, f\"{v:.3f}\", ha='center', fontsize=10)\n",
    "\n",
    "plt.tight_layout()\n",
    "plot_path = \"/home/alpaco/homework/outputs/metrics_report/yolov12m_performance.png\"\n",
    "plt.savefig(plot_path)\n",
    "plt.close()\n",
    "print(f\"✅ Performance chart saved to {plot_path}\")\n",
    "\n",
    "\n",
    "print(\"\\n YOLOv12m Fine-tune Evaluation Summary\")\n",
    "for k, v in metrics.items():\n",
    "    print(f\"{k:<12}: {v:.4f}\")"
   ]
  },
  {
   "cell_type": "markdown",
   "id": "5cb970e3",
   "metadata": {},
   "source": [
    "항목| 내용 | \n",
    "\n",
    "모듈 |sahi.models.yolov8 → YOLOv12도 내부 구조가 동일하므로 그대로 사용\n",
    "\n",
    "모델 지정 |model_type=\"yolov12\" 명시 (명시하지 않아도 작동하지만 명시 추천)\n",
    "\n",
    "입력 이미지 |X-ray 또는 CT slice (512×512 이상 권장)\n",
    "\n",
    "슬라이싱 |영상이 클 경우(>1024px) 작은 결절을 놓치지 않기 위해 분할 탐지 수행\n",
    "\n",
    "결과 출력 |results/ 폴더 내에 시각화된 결과(.jpg, .json) 저장\n",
    "\n",
    "\n",
    "                            지표          |    의미                                 |  기준\n",
    "                            mAP50    |  IOU 0.5에서 평균정확도    |  ≥ 0.8 ✅\n",
    "                            Recall      | 실제 병변 중 탐지된 비율      | ≥ 0.85 ✅\n",
    "                            Precision | 탐지된 것 중 진짜 병변 비율 | ≥ 0.8 ✅\n",
    "\n",
    "                            지표                   |    의미                       |  기준\n",
    "                            False Negative| 병변을 놓친 비율        | 낮을수록 좋음\n",
    "                            SAHI                  | 작은 병변 탐지 향상  |고해상도 영상에 효과적\n"
   ]
  },
  {
   "cell_type": "code",
   "execution_count": null,
   "id": "15a2ecae",
   "metadata": {},
   "outputs": [],
   "source": [
    "import pandas as pd\n",
    "\n",
    "metrics = {\n",
    "    \"mAP50\": [results.box.map50],\n",
    "    \"mAP50-95\": [results.box.map]\n",
    "}\n",
    "df = pd.DataFrame(metrics)\n",
    "df.to_csv(\"/home/alpaco/homework/outputs/yolo_metrics_summary.csv\", index=False)\n"
   ]
  },
  {
   "cell_type": "code",
   "execution_count": null,
   "id": "e03eb166",
   "metadata": {},
   "outputs": [],
   "source": []
  }
 ],
 "metadata": {
  "kernelspec": {
   "display_name": "seirah",
   "language": "python",
   "name": "python3"
  },
  "language_info": {
   "codemirror_mode": {
    "name": "ipython",
    "version": 3
   },
   "file_extension": ".py",
   "mimetype": "text/x-python",
   "name": "python",
   "nbconvert_exporter": "python",
   "pygments_lexer": "ipython3",
   "version": "3.10.19"
  }
 },
 "nbformat": 4,
 "nbformat_minor": 5
}
